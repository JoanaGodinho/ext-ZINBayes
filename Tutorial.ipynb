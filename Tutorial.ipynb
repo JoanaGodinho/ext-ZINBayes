{
 "cells": [
  {
   "cell_type": "markdown",
   "metadata": {},
   "source": [
    "# Run ext-ZINBayes"
   ]
  },
  {
   "cell_type": "markdown",
   "metadata": {},
   "source": [
    "To explain how to use ext-ZINBayes we will use the Islam dataset provided in data/. The steps are all the same for any single cell dataset, however the parameterization in each step depends on what the user wants to do. "
   ]
  },
  {
   "cell_type": "code",
   "execution_count": 1,
   "metadata": {},
   "outputs": [],
   "source": [
    "from ext_zinbayes import * \n",
    "data = CSVDataset(\"./data/Islam\", \"Islam_treated.csv\", labels_file=\"Islam_labels.csv\")"
   ]
  },
  {
   "cell_type": "markdown",
   "metadata": {},
   "source": [
    "### Differential expression analysis (4 steps):\n",
    "### 1 - Create a ZINBayes instance.\n",
    "This is the step where we define the dimension of the latent representations ($Z_i$), the number of train Monte Carlo (MC) samples and the configuration (gene-dispersion, zero-inflation, batch correction etc).\n",
    "To exemplify we will create ZINBayes where the underlying model will have no gene_dispersion, no zero-inflation, no batch correction (Islam has no batches). It will use  10-dimensional cell representations, scalings ($L_i$) and 10 MC samples during training. If the user wishes to use gene-dispersion, batch correction and/or zero inflation just change the corresponding parameter to true. The same goes for the scalings in the opposite way.\n",
    "\n",
    "### 2 - Define and fit the  ZINBayes model with the specified configuration.\n",
    "In this step, we construct the specified model and find the optimal variational distributions (posterior approximations). It only requires the data, a number of iterations and the batch index for each cell (if there are batches). In this example we define 1000 iterations and no batch indexes since Islam has no batches."
   ]
  },
  {
   "cell_type": "code",
   "execution_count": 2,
   "metadata": {},
   "outputs": [
    {
     "name": "stdout",
     "output_type": "stream",
     "text": [
      "Considering cell-specific scalings.\n",
      "Considering gene-specific dispersion.\n",
      "1000/1000 [100%] ██████████████████████████████ Elapsed: 226s | Loss: 17785.651\n"
     ]
    }
   ],
   "source": [
    "ext_zb = ExtZINBayes(n_components=10, n_mc_samples=5, scalings=True, \n",
    "                     gene_dispersion=False, zero_inflation=False, batch_correction=False)\n",
    "ext_zb.fit(data.X, max_iter=1000, batch_idx=None)"
   ]
  },
  {
   "cell_type": "markdown",
   "metadata": {},
   "source": [
    "### 3 - Calculate the differential scores for each gene.\n",
    "In this step, average Bayes factors are calculated for each gene, using all or a subset of valid cell pairs and a given number of Monte Carlo samples for each cell and gene $\\rho_{ig}$. See the preprint for more details.\n",
    "\n",
    "In the following example we use __ALL pairs__ and 100 MC samples for each $\\rho_{ig}$. \n"
   ]
  },
  {
   "cell_type": "code",
   "execution_count": 22,
   "metadata": {},
   "outputs": [
    {
     "name": "stdout",
     "output_type": "stream",
     "text": [
      "rho1_values shape: (100, 44, 6757)\n",
      "rho2_values shape: (100, 48, 6757)\n",
      "[  6.55862097  -1.76177334 -14.1300128  ...   8.89106606  15.99809118\n",
      "  -0.80280499]\n"
     ]
    }
   ],
   "source": [
    "scores = ext_zb.differential_expression_scores(data.cell_types, data.labels,\"MEF\",\"ESC\", n_samples=100)\n",
    "print(scores)"
   ]
  },
  {
   "cell_type": "markdown",
   "metadata": {},
   "source": [
    "If we wish to use a __SUBSET of pairs__, then we need to specify the number of pairs to use. "
   ]
  },
  {
   "cell_type": "code",
   "execution_count": 9,
   "metadata": {},
   "outputs": [
    {
     "name": "stdout",
     "output_type": "stream",
     "text": [
      "rho1_values shape: (100, 44, 6757)\n",
      "rho2_values shape: (100, 48, 6757)\n",
      "[  6.28315326  -1.4402653  -13.55761519 ...   6.45037033  12.95081831\n",
      "  -1.31237454]\n"
     ]
    }
   ],
   "source": [
    "scores = ext_zb.differential_expression_scores(data.cell_types, data.labels,\"MEF\",\"ESC\", n_samples=100, n_pairs=500)\n",
    "print(scores)"
   ]
  },
  {
   "cell_type": "markdown",
   "metadata": {},
   "source": [
    "If the dataset contains __BATCH information__, then we need to pass that information in order to take into account the batches when pairing the cells. See the preprint for more details.\n",
    "\n",
    "To illustrate this we will <font color=blue>simulate some batch assignement</font> regarding the Islam cells and will calculate the DE scores using that information."
   ]
  },
  {
   "cell_type": "code",
   "execution_count": 10,
   "metadata": {},
   "outputs": [
    {
     "name": "stdout",
     "output_type": "stream",
     "text": [
      "[0. 0. 0. 0. 0. 0. 0. 0. 0. 0. 0. 0. 0. 0. 0. 0. 0. 0. 0. 0. 0. 0. 0. 0.\n",
      " 1. 1. 1. 1. 1. 1. 1. 1. 1. 1. 1. 1. 1. 1. 1. 1. 1. 1. 1. 1. 1. 1. 1. 1.\n",
      " 0. 0. 0. 0. 0. 0. 0. 0. 0. 0. 0. 0. 0. 0. 0. 0. 0. 0. 0. 0. 0. 0. 1. 1.\n",
      " 1. 1. 1. 1. 1. 1. 1. 1. 1. 1. 1. 1. 1. 1. 1. 1. 1. 1. 1. 1.]\n"
     ]
    }
   ],
   "source": [
    "batch_names = np.array([\"batch 1\", \"batch 2\"])\n",
    "batches = np.zeros((92,))\n",
    "batches[24:48] = 1\n",
    "batches[70:92] = 1\n",
    "print(batches)"
   ]
  },
  {
   "cell_type": "code",
   "execution_count": 13,
   "metadata": {},
   "outputs": [
    {
     "name": "stdout",
     "output_type": "stream",
     "text": [
      "DE considering batches\n",
      "rho1_values shape: (100, 44, 6757)\n",
      "rho2_values shape: (100, 48, 6757)\n",
      "[  6.48432753  -1.64470043 -12.97906732 ...   7.13388748  13.12319759\n",
      "  -1.80426134]\n"
     ]
    }
   ],
   "source": [
    "scores = ext_zb.differential_expression_scores(data.cell_types, data.labels, \"MEF\", \"ESC\", \n",
    "                                               batch_names, batches, n_samples=100)\n",
    "print(scores)"
   ]
  },
  {
   "cell_type": "markdown",
   "metadata": {},
   "source": [
    "### 4 - Rank and select (optional) genes based on the DE scores.\n",
    "To obtain the __RANKING with all genes__, we simply pass the names of the genes and the scores. Note that the names and scores must be in the same order. If the CSVDataset object is used then that is already fulfilled."
   ]
  },
  {
   "cell_type": "code",
   "execution_count": 23,
   "metadata": {},
   "outputs": [
    {
     "name": "stdout",
     "output_type": "stream",
     "text": [
      "        Gene     factor\n",
      "6364  Dppa5a  18.277080\n",
      "6390   Gsta4  18.268909\n",
      "5391  Ifitm1  18.140479\n",
      "2807   Cldn6  17.987808\n",
      "4381    Alpl  17.975856\n"
     ]
    }
   ],
   "source": [
    "rank = ext_zb.differentially_expressed_genes(data.gene_names,scores)\n",
    "print(rank.head(n=5))"
   ]
  },
  {
   "cell_type": "markdown",
   "metadata": {},
   "source": [
    "If we want to chose the __DEG__, a treshold must be specified (~ 2 or 3)."
   ]
  },
  {
   "cell_type": "code",
   "execution_count": 24,
   "metadata": {},
   "outputs": [
    {
     "name": "stdout",
     "output_type": "stream",
     "text": [
      "        Gene     factor\n",
      "6364  Dppa5a  18.277080\n",
      "6390   Gsta4  18.268909\n",
      "5391  Ifitm1  18.140479\n",
      "2807   Cldn6  17.987808\n",
      "4381    Alpl  17.975856\n"
     ]
    }
   ],
   "source": [
    "DEG = ext_zb.differentially_expressed_genes(data.gene_names,scores, threshold=3)\n",
    "print(DEG.head(n=5))"
   ]
  },
  {
   "cell_type": "markdown",
   "metadata": {},
   "source": [
    "# Assess multiple AUC\n",
    "\n",
    "In the paper, most of the evaluation process was based on the AUC of multiple runs. To do so we need to run the described pipeline several times. Here we exemplify the procedure to calculate the __mean AUC__ for the __Islam__ dataset using only 2 runs.\n",
    "\n",
    "First let us define a function to calculate the AUC of each run, using the sklearn package."
   ]
  },
  {
   "cell_type": "code",
   "execution_count": 25,
   "metadata": {},
   "outputs": [],
   "source": [
    "from sklearn.metrics import roc_curve\n",
    "from sklearn.metrics import auc\n",
    "\n",
    "def calculate_auc(scrs, lbls, trueDEG):\n",
    "    scores = np.array(scrs)\n",
    "    labels = np.array(lbls.isin(trueDEG))\n",
    "    fpr,tpr,thresh = roc_curve(labels, scores)\n",
    "    return auc(fpr, tpr)"
   ]
  },
  {
   "cell_type": "markdown",
   "metadata": {},
   "source": [
    "Now we can perfrom and calculate the AUC of the 2 runs, as well as the mean AUC "
   ]
  },
  {
   "cell_type": "code",
   "execution_count": 26,
   "metadata": {},
   "outputs": [
    {
     "name": "stdout",
     "output_type": "stream",
     "text": [
      "Considering cell-specific scalings.\n",
      "Considering gene-specific dispersion.\n",
      "1000/1000 [100%] ██████████████████████████████ Elapsed: 226s | Loss: 17760.743\n",
      "rho1_values shape: (100, 44, 6757)\n",
      "rho2_values shape: (100, 48, 6757)\n",
      "Considering cell-specific scalings.\n",
      "Considering gene-specific dispersion.\n",
      "1000/1000 [100%] ██████████████████████████████ Elapsed: 226s | Loss: 17761.860\n",
      "rho1_values shape: (100, 44, 6757)\n",
      "rho2_values shape: (100, 48, 6757)\n",
      "AUCs: [0.6325640382522362, 0.6458854615670362]\n",
      "Average AUC: 0.6392247499096362\n"
     ]
    }
   ],
   "source": [
    "n_times = 2 #number of runs\n",
    "n_epochs = 1000\n",
    "path = './data/Islam'\n",
    "trueDEG = pd.read_csv(path + '/trueDEG.txt', sep=\",\", header=0)\n",
    "data = CSVDataset(path, \"Islam_treated.csv\", labels_file=\"Islam_labels.csv\")\n",
    "aucs = []\n",
    "for i in range(n_times):\n",
    "    ext_zb = ExtZINBayes(n_components=10, n_mc_samples=5, scalings=True, gene_dispersion=False, \n",
    "                    zero_inflation=False, batch_correction=False) \n",
    "    ext_zb.fit(data.X, max_iter=n_epochs)\n",
    "    scores = ext_zb.differential_expression_scores(data.cell_types, data.labels,\"MEF\",\"ESC\", n_samples=100)\n",
    "    res = ext_zb.differentially_expressed_genes(data.gene_names,scores)\n",
    "    auc_zinb = calculate_auc(res['factor'], res[\"Gene\"], trueDEG[\"SYMBOL\"])\n",
    "    aucs.append(auc_zinb)\n",
    "print('AUCs: ' + str(aucs))\n",
    "print('Average AUC: ' + str(np.mean(np.array(aucs))))"
   ]
  },
  {
   "cell_type": "markdown",
   "metadata": {},
   "source": [
    "For the __synthetic__ data the procedure is almost the same, with some small changes in certain parameters.\n",
    "Here we exemplify the procedure with the __50-50-50-50__ dataset."
   ]
  },
  {
   "cell_type": "code",
   "execution_count": 10,
   "metadata": {},
   "outputs": [
    {
     "name": "stdout",
     "output_type": "stream",
     "text": [
      "Considering cell-specific scalings.\n",
      "Considering gene-specific dispersion.\n",
      "1000/1000 [100%] ██████████████████████████████ Elapsed: 336s | Loss: 5348.920\n",
      "rho1_values shape: (100, 500, 1000)\n",
      "rho2_values shape: (100, 500, 1000)\n",
      "Considering cell-specific scalings.\n",
      "Considering gene-specific dispersion.\n",
      "1000/1000 [100%] ██████████████████████████████ Elapsed: 336s | Loss: 5347.279\n",
      "rho1_values shape: (100, 500, 1000)\n",
      "rho2_values shape: (100, 500, 1000)\n",
      "AUCs: [0.9508375, 0.9641500000000001]\n",
      "Average AUC: 0.95749375\n"
     ]
    }
   ],
   "source": [
    "n_times = 2 #number of runs\n",
    "n_epochs = 1000\n",
    "path = './data/Sinteticos/50-50-50-50-400-400'\n",
    "trueDEG = pd.read_csv(path + '/trueDEG.txt', sep=\",\", header=0)\n",
    "data = CSVDataset(path, \"synthetic.csv\", labels_file=\"labels.csv\")\n",
    "aucs = []\n",
    "for i in range(n_times):\n",
    "    ext_zb = ExtZINBayes(n_components=10, n_mc_samples=5, scalings=True, gene_dispersion=False, \n",
    "                        zero_inflation=False, batch_correction=False) \n",
    "    ext_zb.fit(data.X, max_iter=n_epochs)\n",
    "    scores = ext_zb.differential_expression_scores(data.cell_types, data.labels,\"B\",\"A\", n_samples=100)\n",
    "    res = ext_zb.differentially_expressed_genes(data.gene_names,scores)\n",
    "    auc_zinb = calculate_auc(res['factor'], res[\"Gene\"], trueDEG[\"Gene\"])\n",
    "    aucs.append(auc_zinb)\n",
    "print('AUCs: ' + str(aucs))\n",
    "print('Average AUC: ' + str(np.mean(np.array(aucs))))"
   ]
  }
 ],
 "metadata": {
  "kernelspec": {
   "display_name": "Python 3",
   "language": "python",
   "name": "python3"
  },
  "language_info": {
   "codemirror_mode": {
    "name": "ipython",
    "version": 3
   },
   "file_extension": ".py",
   "mimetype": "text/x-python",
   "name": "python",
   "nbconvert_exporter": "python",
   "pygments_lexer": "ipython3",
   "version": "3.6.8"
  }
 },
 "nbformat": 4,
 "nbformat_minor": 2
}
